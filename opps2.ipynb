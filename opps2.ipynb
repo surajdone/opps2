{
 "cells": [
  {
   "cell_type": "markdown",
   "id": "c39e044e-9cbd-4feb-b2a4-2d846bf71ad8",
   "metadata": {
    "tags": []
   },
   "source": [
    "# Q1. What is Abstraction in OOps? Explain with an example."
   ]
  },
  {
   "cell_type": "raw",
   "id": "8740b4d4-18d3-4224-91f8-d49965f55d94",
   "metadata": {},
   "source": [
    "abstraction is very usefull in the opps concept which is very usefull to hiding the internal info\n",
    "from the user show only relevent data with the user \n",
    "hidind real world application fromthe user\n",
    "ex. of abstraction is very easy for ex \n",
    "we can drive a car without knowing his performance and its equipments like that we also use all web site and softwere products"
   ]
  },
  {
   "cell_type": "markdown",
   "id": "75807730-bc41-48e6-b1fa-93a5a90993a7",
   "metadata": {},
   "source": [
    "# Q2. Differentiate between Abstraction and Encapsulation. Explain with an example."
   ]
  },
  {
   "cell_type": "raw",
   "id": "29d7d935-4773-4dc2-940f-c9f7ac50f90e",
   "metadata": {},
   "source": [
    "Abstraction is about hiding the details and implementation of the code, and focusing on what must be done.\n",
    "\n",
    "Encapsulation is about hiding the data and controlling the visibility of the code, and focusing on how it must be done.\n",
    "example of the encapsulation is the internal data that we not need to know like car interior"
   ]
  },
  {
   "cell_type": "markdown",
   "id": "b8e6ad25-a65e-43f2-b767-a30cfa75e1ae",
   "metadata": {},
   "source": [
    "Q3. What is abc module in python? Why is it used?"
   ]
  },
  {
   "cell_type": "raw",
   "id": "17a69e7a-5a32-48a1-8c10-b04db48dd872",
   "metadata": {},
   "source": [
    "abc is the (abstract base class) basically it provide the infrastructrure to the code it help us to make or write the code"
   ]
  },
  {
   "cell_type": "markdown",
   "id": "69962cec-7cd3-49cb-88bd-41a1e62fed07",
   "metadata": {},
   "source": [
    "Q4. How can we achieve data abstraction?"
   ]
  },
  {
   "cell_type": "raw",
   "id": "109cae93-90d5-4924-a8ac-1fc97f3d9530",
   "metadata": {},
   "source": [
    "we can achive data abstraction by\n",
    "definig classes that public and privatethat accesible and private to the members\n",
    "and hidden from the users\n",
    "in the abstraction method we can define a sub classes and give acces to the user\n",
    "Using abstract class or interface: We can define an abstract class or an interface with abstract methods. The abstract methods are only declared and not defined. The subclasses or the implementing classes have to provide the definition for the abstract methods.\n"
   ]
  },
  {
   "cell_type": "markdown",
   "id": "272e2023-b97c-4133-9303-274b4859859f",
   "metadata": {},
   "source": [
    "Q5. Can we create an instance of an abstract class? Explain your answer."
   ]
  },
  {
   "cell_type": "code",
   "execution_count": null,
   "id": "0280acbf-b641-4e5d-bacc-9a7a7679686f",
   "metadata": {},
   "outputs": [],
   "source": []
  }
 ],
 "metadata": {
  "kernelspec": {
   "display_name": "Python 3 (ipykernel)",
   "language": "python",
   "name": "python3"
  },
  "language_info": {
   "codemirror_mode": {
    "name": "ipython",
    "version": 3
   },
   "file_extension": ".py",
   "mimetype": "text/x-python",
   "name": "python",
   "nbconvert_exporter": "python",
   "pygments_lexer": "ipython3",
   "version": "3.10.8"
  }
 },
 "nbformat": 4,
 "nbformat_minor": 5
}
